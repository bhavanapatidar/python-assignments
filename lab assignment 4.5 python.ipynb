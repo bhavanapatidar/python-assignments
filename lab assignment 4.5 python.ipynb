{
 "cells": [
  {
   "cell_type": "code",
   "execution_count": 8,
   "metadata": {},
   "outputs": [
    {
     "name": "stdout",
     "output_type": "stream",
     "text": [
      "[12, 24, 35, 88, 120, 155]\n"
     ]
    }
   ],
   "source": [
    "def Duplicatereject ( list ):\n",
    "    newlist=[]\n",
    "    already = set()\n",
    "    for item in list:\n",
    "        if item not in already:\n",
    "            already.add( item )\n",
    "            newlist.append(item)\n",
    "\n",
    "    return newlist\n",
    "\n",
    "list=[12,24,35,24,88,120,155,88,120,155]\n",
    "print (Duplicatereject( list ))\n"
   ]
  },
  {
   "cell_type": "code",
   "execution_count": null,
   "metadata": {},
   "outputs": [],
   "source": []
  }
 ],
 "metadata": {
  "kernelspec": {
   "display_name": "Python 3",
   "language": "python",
   "name": "python3"
  },
  "language_info": {
   "codemirror_mode": {
    "name": "ipython",
    "version": 3
   },
   "file_extension": ".py",
   "mimetype": "text/x-python",
   "name": "python",
   "nbconvert_exporter": "python",
   "pygments_lexer": "ipython3",
   "version": "3.8.3"
  }
 },
 "nbformat": 4,
 "nbformat_minor": 4
}
