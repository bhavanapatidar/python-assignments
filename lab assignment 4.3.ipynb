{
 "cells": [
  {
   "cell_type": "code",
   "execution_count": 1,
   "metadata": {},
   "outputs": [
    {
     "name": "stdout",
     "output_type": "stream",
     "text": [
      "Enter the line: -New to Python or choosing between Python 2 and Python 3? Read Python 2 or Python 3\n",
      "2:2\n",
      "3:1\n",
      "3?:1\n",
      "New:1\n",
      "Python:5\n",
      "Read:1\n",
      "and:1\n",
      "between:1\n",
      "choosing:1\n",
      "or:2\n",
      "to:1\n"
     ]
    }
   ],
   "source": [
    "list=[]\n",
    "list1=[]\n",
    "# Input line\n",
    "list= input(\"Enter the line: -\").split()\n",
    "# Word and count in a single list\n",
    "for i in list:\n",
    "    x = list.count(i)\n",
    "    value=[i,x]\n",
    "    list1.append(tuple(value))\n",
    "list2=list1\n",
    "# loop to repeated word\n",
    "for i in list1:\n",
    "    if i in list2:\n",
    "        while(list2.count(i)):\n",
    "            list2.remove(i)\n",
    "        list2.append(i)\n",
    "# sorting alpha numerically\n",
    "list2.sort()\n",
    "\n",
    "# printing list\n",
    "for i in list2:\n",
    "    print(i[0]+\":\"+str(i[1]))"
   ]
  },
  {
   "cell_type": "code",
   "execution_count": null,
   "metadata": {},
   "outputs": [],
   "source": []
  }
 ],
 "metadata": {
  "kernelspec": {
   "display_name": "Python 3",
   "language": "python",
   "name": "python3"
  },
  "language_info": {
   "codemirror_mode": {
    "name": "ipython",
    "version": 3
   },
   "file_extension": ".py",
   "mimetype": "text/x-python",
   "name": "python",
   "nbconvert_exporter": "python",
   "pygments_lexer": "ipython3",
   "version": "3.8.3"
  }
 },
 "nbformat": 4,
 "nbformat_minor": 4
}
