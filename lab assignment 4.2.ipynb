{
 "cells": [
  {
   "cell_type": "code",
   "execution_count": 1,
   "metadata": {},
   "outputs": [
    {
     "name": "stdout",
     "output_type": "stream",
     "text": [
      "Enter the value(name,age,score): - \n",
      "Tom,19,80 John,20,90 Jony,17,91 Jony,17,93 Json,21,85\n",
      "\n",
      "Final Sorted List with Tuplist: -\n",
      "[('Tom', '19', '80 John', '20', '90 Jony', '17', '91 Jony', '17', '93 Json', '21', '85')]\n"
     ]
    }
   ],
   "source": [
    "list = []\n",
    "                                # input Untill user enter space\n",
    "value = input(\"Enter the value(name,age,score): - \\n\")\n",
    "while(value != ''):\n",
    "    list.append(tuple(value.split(',')))\n",
    "    value = input()\n",
    "\n",
    "trial = list.copy()\n",
    "list.sort()\n",
    "srt = list.copy()\n",
    "                               # loop to sort array in the order Name>age>Score\n",
    "for i in list:\n",
    "    srt.remove(i)\n",
    "    for x in srt:\n",
    "        if i[0] == x[0]:\n",
    "            if i[1] > x[1]:\n",
    "                a = list.index(i)\n",
    "                b = list.index(x)\n",
    "                list.insert(a, x)\n",
    "                list.pop(b+1)\n",
    "                print(\"i==x\")\n",
    "                print(srt)\n",
    "            elif i[1] == x[1]:\n",
    "                if i[2] > x[2]:\n",
    "                    z = list.index(i)\n",
    "                    y = list.index(x)\n",
    "                    list.insert(z, x)\n",
    "                    list.pop(y)\n",
    "print(\"Final Sorted List with Tuplist: -\")\n",
    "print(list)"
   ]
  },
  {
   "cell_type": "code",
   "execution_count": null,
   "metadata": {},
   "outputs": [],
   "source": []
  }
 ],
 "metadata": {
  "kernelspec": {
   "display_name": "Python 3",
   "language": "python",
   "name": "python3"
  },
  "language_info": {
   "codemirror_mode": {
    "name": "ipython",
    "version": 3
   },
   "file_extension": ".py",
   "mimetype": "text/x-python",
   "name": "python",
   "nbconvert_exporter": "python",
   "pygments_lexer": "ipython3",
   "version": "3.8.3"
  }
 },
 "nbformat": 4,
 "nbformat_minor": 4
}
