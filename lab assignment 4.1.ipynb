{
 "cells": [
  {
   "cell_type": "code",
   "execution_count": 2,
   "metadata": {},
   "outputs": [
    {
     "name": "stdout",
     "output_type": "stream",
     "text": [
      "Enter the string:\tABd1234@1,a F1#,2w3E*,2We3345\n",
      "['ABd1234@1', 'a F1#', '2w3E*', '2We3345']\n",
      "ABd1234@1 will be correct password\n"
     ]
    }
   ],
   "source": [
    "#           For console input\n",
    "list=input(\"Enter the string:\\t\").split(',')\n",
    "print(list)\n",
    "                                 # list=['ABd1234@1','a F1#','2w3E*','2We3345']\n",
    "special = \"$,#,@\".split(',')\n",
    "check=[]\n",
    "                                  # loop to iterate in the list\n",
    "for i in list:\n",
    "    check.clear()\n",
    "                                # conditions to check password\n",
    "    if len(i)>6 and len(i)<12:\n",
    "        for something in range(0,len(i)):\n",
    "            if i[something] in special:\n",
    "                check.append(\"a\")\n",
    "            if(i[something]>='a' and i[something]<='z'):\n",
    "                check.append('b')\n",
    "            if(i[something]>='A' and i[something]<='Z'):\n",
    "                check.append('c')\n",
    "            if(i[something].isnumeric()):\n",
    "                check.append('d')\n",
    "    if 'a' in check and 'b' in check and 'c' in check and 'd' in check:\n",
    "        print(\"{} will be correct password\".format(i))\n"
   ]
  },
  {
   "cell_type": "code",
   "execution_count": null,
   "metadata": {},
   "outputs": [],
   "source": []
  }
 ],
 "metadata": {
  "kernelspec": {
   "display_name": "Python 3",
   "language": "python",
   "name": "python3"
  },
  "language_info": {
   "codemirror_mode": {
    "name": "ipython",
    "version": 3
   },
   "file_extension": ".py",
   "mimetype": "text/x-python",
   "name": "python",
   "nbconvert_exporter": "python",
   "pygments_lexer": "ipython3",
   "version": "3.8.3"
  }
 },
 "nbformat": 4,
 "nbformat_minor": 4
}
